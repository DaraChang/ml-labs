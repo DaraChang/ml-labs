{
 "cells": [
  {
   "cell_type": "code",
   "execution_count": 7,
   "metadata": {},
   "outputs": [],
   "source": [
    "import pandas as pd\n",
    "import numpy as np\n",
    "import matplotlib.pyplot as plt\n",
    "%matplotlib inline\n",
    "import os\n",
    "import cv2\n",
    "import PIL.Image as Image\n",
    "from numpy import random,mat\n",
    "from mpl_toolkits.mplot3d import Axes3D\n",
    "import sklearn\n",
    "from sklearn.decomposition import PCA\n",
    "from sklearn import svm\n",
    "import zipfile\n",
    "from sklearn.tree import DecisionTreeClassifier\n",
    "from sklearn.ensemble import BaggingClassifier\n",
    "from sklearn.ensemble import RandomForestClassifier\n",
    "from sklearn.neighbors import KNeighborsClassifier\n",
    "from sklearn.preprocessing import PolynomialFeatures\n",
    "from sklearn.linear_model import LinearRegression, Lasso, Ridge"
   ]
  },
  {
   "cell_type": "markdown",
   "metadata": {},
   "source": [
    "PREPROCESSING"
   ]
  },
  {
   "cell_type": "code",
   "execution_count": 8,
   "metadata": {},
   "outputs": [],
   "source": [
    "#壓縮圖片\n",
    "def compressImage(srcPath,dstPath):\n",
    "    for filename in os.listdir(srcPath):           \n",
    "        if not os.path.exists(dstPath):\n",
    "                os.makedirs(dstPath)\n",
    "\n",
    "        #完整的檔案或資料夾路徑\n",
    "        srcFile=os.path.join(srcPath,filename)\n",
    "        dstFile=os.path.join(dstPath,filename)\n",
    "\n",
    "        # 如果是檔案就處理\n",
    "        if os.path.isfile(srcFile):\n",
    "            \n",
    "             if os.path.isfile(srcFile):\n",
    "                try:\n",
    "                    sImg=Image.open(srcFile)\n",
    "                    dImg=sImg.resize((100,100),Image.ANTIALIAS)  # 設定壓縮尺寸\n",
    "                    dImg.save(dstFile)\n",
    "                except Exception:\n",
    "                    print(dstFile+\"fail\")\n",
    "\n",
    "        # 如果是資料夾就遞迴\n",
    "        if os.path.isdir(srcFile):\n",
    "            compressImage(srcFile, dstFile)"
   ]
  },
  {
   "cell_type": "code",
   "execution_count": 9,
   "metadata": {
    "scrolled": true
   },
   "outputs": [
    {
     "name": "stdout",
     "output_type": "stream",
     "text": [
      "[[112 101  87 ... 114 106  93]\n",
      " [ 43  62  67 ... 104 139 207]\n",
      " [168 175  84 ... 179 149 132]\n",
      " ...\n",
      " [123 127 128 ...  86  94 101]\n",
      " [ 80  92 104 ... 117 117 171]\n",
      " [ 95  99 100 ... 101 115 164]]\n"
     ]
    }
   ],
   "source": [
    "compressImage(\"./data/Train/\",\"./data/Train_compression/\")     # 壓縮芒果圖片\n",
    "path='./data/Train_compression/'\n",
    "files=os.listdir(path)\n",
    "files.sort()\n",
    "img_list = []\n",
    "\n",
    "#讀檔\n",
    "for file in files:\n",
    "    \n",
    "    p=path+file\n",
    "    img = cv2.imread(p)\n",
    "    img_2D = np.reshape(img,(-1,3))\n",
    "    img_1D = np.reshape(img_2D,(-1,1))\n",
    "           \n",
    "    img_1D = img_1D.flatten()\n",
    "    img_1D = img_1D.tolist()\n",
    "\n",
    "    img_list.append(img_1D)\n",
    "img_arr = np.array(img_list)\n",
    "\n",
    "\n",
    "compressImage(\"./data/Test/\",\"./data/Test_compression/\")     # 壓縮芒果圖片\n",
    "path='./data/Test_compression/'\n",
    "files=os.listdir(path)\n",
    "files.sort()\n",
    "test_list = []\n",
    "\n",
    "#讀檔\n",
    "for file in files:\n",
    "    \n",
    "    p=path+file\n",
    "    img = cv2.imread(p)\n",
    "    img_2D = np.reshape(img,(-1,3))\n",
    "    img_1D = np.reshape(img_2D,(-1,1))\n",
    "           \n",
    "    img_1D = img_1D.flatten()\n",
    "    img_1D = img_1D.tolist()\n",
    "\n",
    "    test_list.append(img_1D)\n",
    "test_arr = np.array(test_list)\n",
    "\n",
    "\n",
    "print(test_arr)\n"
   ]
  },
  {
   "cell_type": "code",
   "execution_count": 10,
   "metadata": {},
   "outputs": [],
   "source": [
    "pca = PCA(n_components=100)\n",
    "pca.fit(img_arr)\n",
    "img_arr_pca = pca.transform(img_arr)"
   ]
  },
  {
   "cell_type": "code",
   "execution_count": 11,
   "metadata": {},
   "outputs": [
    {
     "name": "stdout",
     "output_type": "stream",
     "text": [
      "5600\n"
     ]
    }
   ],
   "source": [
    "df = pd.read_csv('./data/Train.csv', index_col=0)\n",
    "label_list = []\n",
    "for i in range(len(df['label'])):\n",
    "    if df['label'][i] == 'A':\n",
    "        label_list.append(0)\n",
    "    elif df['label'][i] == 'B':\n",
    "        label_list.append(1)\n",
    "    else:\n",
    "        label_list.append(2)\n",
    "print(len(label_list))"
   ]
  },
  {
   "cell_type": "markdown",
   "metadata": {},
   "source": [
    "SVC"
   ]
  },
  {
   "cell_type": "code",
   "execution_count": 10,
   "metadata": {
    "scrolled": false
   },
   "outputs": [
    {
     "data": {
      "text/plain": [
       "SVC(C=0.9, cache_size=200, class_weight=None, coef0=0.0,\n",
       "  decision_function_shape='ovr', degree=5, gamma='auto', kernel='poly',\n",
       "  max_iter=-1, probability=False, random_state=None, shrinking=True,\n",
       "  tol=0.001, verbose=False)"
      ]
     },
     "execution_count": 10,
     "metadata": {},
     "output_type": "execute_result"
    }
   ],
   "source": [
    "clf = svm.SVC(kernel = 'poly', degree = 5, C = 0.9)\n",
    "clf.fit(img_arr_pca, label_list)"
   ]
  },
  {
   "cell_type": "markdown",
   "metadata": {},
   "source": [
    "RANDOM FOREST"
   ]
  },
  {
   "cell_type": "code",
   "execution_count": 54,
   "metadata": {},
   "outputs": [
    {
     "data": {
      "text/plain": [
       "BaggingClassifier(base_estimator=DecisionTreeClassifier(class_weight=None, criterion='gini', max_depth=None,\n",
       "            max_features=None, max_leaf_nodes=None,\n",
       "            min_impurity_decrease=0.0, min_impurity_split=None,\n",
       "            min_samples_leaf=1, min_samples_split=2,\n",
       "            min_weight_fraction_leaf=0.0, presort=False, random_state=None,\n",
       "            splitter='best'),\n",
       "         bootstrap=True, bootstrap_features=False, max_features=1.0,\n",
       "         max_samples=0.8, n_estimators=1000, n_jobs=1, oob_score=False,\n",
       "         random_state=1, verbose=0, warm_start=False)"
      ]
     },
     "execution_count": 54,
     "metadata": {},
     "output_type": "execute_result"
    }
   ],
   "source": [
    "tree = DecisionTreeClassifier()\n",
    "bag = BaggingClassifier(tree, n_estimators=1000, max_samples=0.8, random_state=1)\n",
    "bag.fit(img_arr_pca, label_list)"
   ]
  },
  {
   "cell_type": "code",
   "execution_count": null,
   "metadata": {},
   "outputs": [],
   "source": [
    "rf1 = RandomForestClassifier(n_estimators=1000,max_features=100)\n",
    "rf1.fit(img_arr_pca, label_list)"
   ]
  },
  {
   "cell_type": "code",
   "execution_count": 27,
   "metadata": {},
   "outputs": [
    {
     "data": {
      "text/plain": [
       "RandomForestClassifier(bootstrap=True, class_weight=None, criterion='gini',\n",
       "            max_depth=None, max_features='auto', max_leaf_nodes=None,\n",
       "            min_impurity_decrease=0.0, min_impurity_split=None,\n",
       "            min_samples_leaf=1, min_samples_split=2,\n",
       "            min_weight_fraction_leaf=0.0, n_estimators=1000, n_jobs=1,\n",
       "            oob_score=False, random_state=None, verbose=0,\n",
       "            warm_start=False)"
      ]
     },
     "execution_count": 27,
     "metadata": {},
     "output_type": "execute_result"
    }
   ],
   "source": [
    "rf2 = RandomForestClassifier(n_estimators=1000)\n",
    "rf2.fit(img_arr_pca, label_list)"
   ]
  },
  {
   "cell_type": "code",
   "execution_count": null,
   "metadata": {},
   "outputs": [],
   "source": [
    "rf3 = RandomForestClassifier(n_estimators=1000)\n",
    "rf3.fit(img_arr_pca, label_list)"
   ]
  },
  {
   "cell_type": "markdown",
   "metadata": {},
   "source": [
    "KNN"
   ]
  },
  {
   "cell_type": "code",
   "execution_count": 23,
   "metadata": {},
   "outputs": [
    {
     "data": {
      "text/plain": [
       "KNeighborsClassifier(algorithm='auto', leaf_size=30, metric='minkowski',\n",
       "           metric_params=None, n_jobs=1, n_neighbors=10, p=2,\n",
       "           weights='distance')"
      ]
     },
     "execution_count": 23,
     "metadata": {},
     "output_type": "execute_result"
    }
   ],
   "source": [
    "knn = KNeighborsClassifier(n_neighbors=10, weights='distance')\n",
    "knn.fit(img_arr_pca, label_list)"
   ]
  },
  {
   "cell_type": "code",
   "execution_count": null,
   "metadata": {},
   "outputs": [],
   "source": [
    "LINEAR REGRESSION"
   ]
  },
  {
   "cell_type": "code",
   "execution_count": 8,
   "metadata": {},
   "outputs": [
    {
     "ename": "NameError",
     "evalue": "name 'img_arr_poly4' is not defined",
     "output_type": "error",
     "traceback": [
      "\u001b[0;31m\u001b[0m",
      "\u001b[0;31mNameError\u001b[0mTraceback (most recent call last)",
      "\u001b[0;32m<ipython-input-8-b1a09b927437>\u001b[0m in \u001b[0;36m<module>\u001b[0;34m()\u001b[0m\n\u001b[1;32m      2\u001b[0m \u001b[0;31m#img_arr_poly4 = poly4.fit_transform(img_arr_pca)\u001b[0m\u001b[0;34m\u001b[0m\u001b[0;34m\u001b[0m\u001b[0;34m\u001b[0m\u001b[0m\n\u001b[1;32m      3\u001b[0m \u001b[0mlasso_poly4\u001b[0m \u001b[0;34m=\u001b[0m \u001b[0mLasso\u001b[0m\u001b[0;34m(\u001b[0m\u001b[0;34m)\u001b[0m\u001b[0;34m\u001b[0m\u001b[0;34m\u001b[0m\u001b[0m\n\u001b[0;32m----> 4\u001b[0;31m \u001b[0mlasso_poly4\u001b[0m\u001b[0;34m.\u001b[0m\u001b[0mfit\u001b[0m\u001b[0;34m(\u001b[0m\u001b[0mimg_arr_poly4\u001b[0m\u001b[0;34m,\u001b[0m \u001b[0mlabel_list\u001b[0m\u001b[0;34m)\u001b[0m\u001b[0;34m\u001b[0m\u001b[0;34m\u001b[0m\u001b[0m\n\u001b[0m",
      "\u001b[0;31mNameError\u001b[0m: name 'img_arr_poly4' is not defined"
     ]
    }
   ],
   "source": [
    "#poly4 = PolynomialFeatures(degree=3)  # 4次多項式特征生成器\n",
    "#img_arr_poly4 = poly4.fit_transform(img_arr_pca)\n",
    "lasso_poly4 = Lasso()\n",
    "lasso_poly4.fit(img_arr_poly4, label_list)"
   ]
  },
  {
   "cell_type": "markdown",
   "metadata": {},
   "source": [
    "VALIDATION"
   ]
  },
  {
   "cell_type": "code",
   "execution_count": null,
   "metadata": {},
   "outputs": [],
   "source": [
    "kfold = sklearn.model_selection.KFold(n_splits=10, shuffle = True, random_state=7)\n",
    "results = sklearn.model_selection.cross_val_score(rf1, img_arr_pca, label_list, cv=kfold)\n",
    "print(results.mean())"
   ]
  },
  {
   "cell_type": "code",
   "execution_count": 16,
   "metadata": {},
   "outputs": [],
   "source": [
    "test_arr_pca = pca.transform(test_arr)"
   ]
  },
  {
   "cell_type": "markdown",
   "metadata": {},
   "source": [
    "PREDICT"
   ]
  },
  {
   "cell_type": "code",
   "execution_count": 21,
   "metadata": {},
   "outputs": [
    {
     "name": "stdout",
     "output_type": "stream",
     "text": [
      "[1 0 2 2 0 2 1 2 0 2 2 0 1 0 0 2 1 1 1 1 0 1 2 1 1 2 1 1 1 0 0 0 1 2 2 1 0\n",
      " 1 1 1 0 0 2 1 1 1 2 1 1 1 1 2 1 1 2 2 0 1 2 0 0 1 2 1 1 1 1 1 1 0 1 1 1 0\n",
      " 1 1 2 2 1 2 2 1 1 2 1 1 1 0 1 2 0 1 2 0 0 1 1 0 1 1 0 2 0 1 2 1 0 0 1 0 0\n",
      " 1 0 2 1 2 0 0 1 1 1 2 0 2 0 0 1 2 1 0 2 2 2 0 2 2 1 1 1 1 1 2 1 0 2 0 1 0\n",
      " 1 2 1 1 1 2 2 1 1 1 1 1 1 1 0 1 2 1 2 0 0 1 2 1 1 1 1 1 1 1 2 0 2 0 2 0 2\n",
      " 2 0 0 0 1 2 0 0 0 0 1 1 0 1 2 2 2 0 2 0 1 2 1 1 1 2 2 2 1 2 1 1 1 0 2 1 2\n",
      " 0 0 0 0 2 2 0 1 0 0 1 1 0 2 1 1 0 1 2 0 0 1 2 0 1 1 1 1 2 2 1 0 1 1 2 1 1\n",
      " 1 1 0 2 2 0 1 0 1 2 2 1 2 0 1 1 1 2 1 1 1 1 0 2 0 0 1 2 1 1 2 1 2 1 1 0 2\n",
      " 2 1 0 1 0 0 2 0 2 2 0 2 1 1 1 1 0 2 2 0 2 0 1 1 2 1 2 1 1 1 0 1 1 0 1 1 0\n",
      " 0 0 0 0 1 0 2 0 0 2 0 0 1 0 1 1 1 2 1 1 1 1 2 0 1 1 0 1 0 0 1 1 1 1 2 2 2\n",
      " 2 0 2 1 1 2 2 1 2 0 2 2 1 0 1 2 2 0 1 1 2 1 2 0 0 1 1 2 1 0 0 2 1 1 1 2 1\n",
      " 2 0 1 0 1 1 0 1 2 0 0 1 0 1 2 1 1 0 2 0 1 0 0 2 0 2 0 1 1 2 0 1 2 1 1 2 0\n",
      " 1 2 1 0 1 1 2 1 2 1 0 0 0 2 1 0 0 0 0 1 2 2 2 0 2 0 1 0 1 1 1 1 1 2 2 1 2\n",
      " 1 0 1 0 2 1 2 1 0 1 0 0 2 2 0 1 1 0 1 0 1 1 0 0 1 2 1 1 2 0 1 2 1 1 1 1 0\n",
      " 0 0 1 1 1 0 2 2 2 1 2 1 1 1 1 2 0 1 2 1 2 1 0 0 1 0 2 1 1 1 2 0 1 1 1 1 1\n",
      " 1 2 2 1 1 0 0 2 1 1 0 2 0 1 1 1 1 2 0 1 2 2 2 2 1 1 0 1 2 1 1 2 0 1 2 2 2\n",
      " 1 1 1 2 0 1 0 1 2 0 0 2 1 1 1 0 1 0 2 1 0 0 1 1 1 2 0 0 2 0 2 0 2 1 0 1 2\n",
      " 1 0 0 1 0 0 1 2 0 2 2 1 1 0 0 0 1 2 0 2 2 1 1 1 0 1 1 0 2 0 2 2 2 0 2 0 2\n",
      " 1 1 0 1 0 2 1 1 1 1 2 1 1 1 0 2 2 0 2 1 1 1 0 1 1 2 0 1 1 2 1 0 1 1 2 1 2\n",
      " 1 0 2 1 2 1 0 2 1 0 0 0 2 0 1 1 0 0 2 2 1 1 0 1 1 2 1 2 2 1 0 1 1 0 1 1 0\n",
      " 0 0 1 0 0 1 2 1 0 1 1 0 0 1 1 0 2 1 1 0 2 0 1 1 1 1 0 0 0 1 0 1 2 2 1 1 1\n",
      " 0 1 1 1 2 1 1 2 1 1 2 1 1 1 1 0 0 1 2 0 1 0 2]\n"
     ]
    }
   ],
   "source": [
    "predict1 = clf.predict(test_arr_pca)\n",
    "print(predict1)"
   ]
  },
  {
   "cell_type": "code",
   "execution_count": 47,
   "metadata": {},
   "outputs": [
    {
     "name": "stdout",
     "output_type": "stream",
     "text": [
      "[1 0 2 2 0 2 1 1 0 2 2 0 1 2 0 2 1 1 2 1 0 1 2 0 2 2 2 1 1 0 0 1 1 2 0 1 0\n",
      " 1 0 1 0 0 2 1 0 2 1 2 0 0 1 1 1 2 2 1 0 1 2 0 0 1 1 2 2 1 1 2 1 1 1 1 1 0\n",
      " 1 0 2 2 1 2 2 0 1 2 1 1 2 0 1 2 0 1 1 0 0 1 1 1 1 1 1 1 0 1 1 1 0 0 1 1 0\n",
      " 1 0 1 0 2 0 0 1 0 0 2 0 2 0 0 1 2 1 0 1 0 1 2 2 1 1 1 2 2 1 2 2 0 2 1 0 0\n",
      " 2 2 1 1 1 2 2 1 2 1 0 1 1 1 0 1 1 2 2 0 0 1 1 1 1 1 1 1 1 0 2 0 2 0 1 0 2\n",
      " 2 0 0 0 2 2 0 0 0 0 2 1 0 0 2 0 2 0 2 0 2 2 1 1 1 2 2 2 1 2 1 1 1 0 1 1 2\n",
      " 0 0 0 0 2 2 0 1 2 0 0 1 1 1 1 0 0 1 2 1 0 1 2 0 2 1 1 1 2 2 1 0 1 2 2 1 1\n",
      " 0 1 0 2 2 1 2 0 2 1 2 1 2 0 1 0 1 2 2 1 1 1 1 2 1 1 1 2 1 1 1 1 1 1 1 0 0\n",
      " 2 1 1 0 0 0 2 0 2 1 0 2 0 1 1 1 0 2 2 0 1 1 0 1 0 1 1 1 2 2 2 1 1 0 2 1 0\n",
      " 0 0 1 0 1 0 2 0 0 2 0 1 1 0 1 0 1 1 2 1 1 1 1 0 0 2 0 0 0 0 1 0 1 1 0 2 2\n",
      " 2 0 1 1 1 2 2 2 2 1 2 0 1 0 1 2 1 0 1 0 1 1 0 0 0 1 0 2 1 0 0 2 2 1 1 2 1\n",
      " 1 1 1 2 2 1 0 1 2 0 0 1 0 1 1 2 2 1 2 0 1 0 0 2 1 2 0 1 0 0 0 1 2 1 1 2 1\n",
      " 0 0 1 0 0 1 2 2 2 1 0 2 0 1 1 2 0 0 0 0 0 2 2 0 2 0 1 0 1 0 1 0 1 2 2 1 2\n",
      " 1 0 1 0 2 0 2 2 0 1 1 0 1 2 0 1 2 0 1 0 1 1 0 0 1 2 1 1 1 0 1 2 1 1 1 1 0\n",
      " 0 0 2 2 1 2 2 2 0 2 1 1 1 1 0 2 1 1 2 2 0 1 0 0 2 0 0 1 2 0 2 0 1 1 2 1 1\n",
      " 1 1 2 1 1 0 0 2 1 1 1 2 0 0 1 1 1 2 0 1 2 2 2 2 1 1 1 1 2 2 1 2 2 1 2 0 1\n",
      " 1 1 0 2 0 1 2 0 1 0 2 2 1 1 1 0 0 0 1 1 0 2 0 1 1 2 0 0 1 0 0 0 1 2 1 1 2\n",
      " 1 0 0 1 0 0 2 2 0 1 2 1 1 1 0 0 1 2 1 2 2 1 1 0 0 1 2 2 0 1 2 2 2 2 1 0 2\n",
      " 1 2 0 1 0 2 1 1 1 2 2 0 1 0 0 2 2 1 2 1 1 0 0 1 0 2 1 1 1 1 0 0 1 1 2 1 2\n",
      " 1 0 2 1 2 1 0 1 0 0 1 0 1 0 1 1 2 0 2 1 1 1 0 1 0 1 2 0 1 1 0 1 1 0 2 0 0\n",
      " 1 0 1 0 0 1 2 1 1 1 1 2 0 1 2 1 1 0 2 1 1 1 1 0 1 1 0 1 0 2 1 1 2 2 0 1 2\n",
      " 0 2 1 1 2 2 1 2 1 1 2 0 1 1 1 0 0 1 1 0 1 2 1]\n"
     ]
    }
   ],
   "source": [
    "predict2 = bag.predict(test_arr_pca)\n",
    "print(predict2)"
   ]
  },
  {
   "cell_type": "code",
   "execution_count": 22,
   "metadata": {},
   "outputs": [
    {
     "name": "stdout",
     "output_type": "stream",
     "text": [
      "[1 0 2 2 0 0 1 1 0 2 2 0 1 2 0 1 1 1 1 1 0 1 2 0 2 2 1 1 0 0 0 1 1 2 0 1 0\n",
      " 1 0 1 2 0 1 1 0 2 1 2 0 0 1 1 1 2 2 2 0 1 2 0 0 1 1 1 2 1 1 1 1 0 1 2 2 0\n",
      " 1 0 2 2 1 2 2 0 1 2 2 1 1 0 1 1 0 1 1 0 0 1 1 1 1 1 1 1 0 1 1 1 0 0 1 0 0\n",
      " 1 0 1 0 2 0 0 1 0 0 2 0 2 0 0 2 2 1 0 1 0 1 0 2 1 1 1 2 2 1 1 2 0 2 1 0 0\n",
      " 2 2 1 1 1 2 2 1 2 1 0 1 1 1 0 1 2 2 2 0 0 1 1 1 1 1 1 1 1 0 2 0 2 0 2 0 2\n",
      " 2 0 0 0 2 2 0 0 0 0 2 1 0 0 2 0 2 0 2 0 2 2 1 1 1 1 1 2 1 2 1 1 1 0 2 1 2\n",
      " 0 0 0 0 2 2 0 1 2 0 0 1 1 1 1 0 0 1 2 1 0 1 2 0 2 1 1 1 2 2 1 0 1 1 2 1 1\n",
      " 1 1 0 2 2 1 2 1 2 1 2 1 2 0 1 0 1 2 1 1 1 1 1 2 1 1 1 2 1 1 1 1 1 1 1 0 0\n",
      " 2 1 1 0 0 0 2 0 2 1 0 2 0 0 1 1 0 2 2 0 1 0 0 1 0 1 1 1 1 2 1 1 1 0 2 1 0\n",
      " 0 1 1 0 1 0 2 0 0 1 0 1 1 1 1 1 1 1 2 1 1 1 1 1 0 2 0 0 0 0 1 0 1 1 2 2 2\n",
      " 2 0 1 1 1 2 2 2 2 1 2 0 1 0 1 2 1 0 1 0 2 1 0 0 0 1 0 2 1 0 0 2 2 1 1 2 1\n",
      " 1 0 1 2 2 1 0 1 1 0 0 1 0 1 1 2 2 1 2 0 0 0 0 2 0 2 0 1 0 2 0 1 2 1 1 2 0\n",
      " 0 0 1 0 0 1 1 2 2 1 0 0 0 2 1 1 0 0 0 0 0 1 2 0 2 0 1 0 1 0 2 0 1 2 2 1 2\n",
      " 1 0 1 0 2 1 2 2 0 1 1 0 1 2 0 1 2 0 1 0 1 1 0 0 1 2 1 1 2 0 1 1 1 1 1 1 0\n",
      " 0 1 2 2 1 2 2 2 0 2 1 1 1 1 0 1 1 1 1 2 0 1 0 0 2 0 0 1 2 2 2 0 1 1 1 1 1\n",
      " 0 1 2 1 1 1 0 2 1 1 1 2 0 0 1 1 1 2 0 1 2 2 2 2 1 1 1 1 2 2 1 2 2 1 2 0 1\n",
      " 0 1 0 2 0 1 2 0 2 0 2 2 1 1 1 0 0 0 1 1 0 2 0 1 1 1 0 0 1 0 0 0 2 2 1 1 2\n",
      " 1 0 0 1 0 0 2 1 0 1 2 1 1 1 0 0 1 2 1 2 2 1 1 0 0 1 2 2 0 1 2 2 2 0 1 0 2\n",
      " 1 2 2 1 0 2 1 1 1 2 2 0 1 0 0 2 2 1 2 1 1 0 0 1 0 2 1 1 1 1 0 0 1 1 2 1 2\n",
      " 1 0 2 1 2 1 0 1 0 0 1 0 1 0 1 1 2 0 2 1 1 0 0 1 0 1 2 0 2 1 0 1 1 0 2 0 0\n",
      " 1 0 0 0 0 1 2 1 1 2 1 2 0 1 2 1 1 0 2 0 1 1 1 0 2 0 0 1 2 1 1 1 1 2 0 1 2\n",
      " 0 2 1 1 2 2 1 1 1 1 2 0 1 1 1 0 0 1 1 0 1 0 1]\n"
     ]
    }
   ],
   "source": [
    "predict3 = rf1.predict(test_arr_pca)\n",
    "print(predict3)"
   ]
  },
  {
   "cell_type": "code",
   "execution_count": 23,
   "metadata": {},
   "outputs": [
    {
     "name": "stdout",
     "output_type": "stream",
     "text": [
      "[1 0 2 2 0 0 1 1 0 2 2 0 1 2 0 2 1 1 1 1 0 1 2 0 1 2 1 1 1 0 0 1 1 2 0 1 0\n",
      " 1 0 1 2 0 1 1 0 2 1 1 0 0 1 1 1 2 2 2 0 1 2 0 0 1 1 1 1 1 1 1 1 0 1 2 2 0\n",
      " 1 0 2 2 1 2 2 0 1 2 2 1 2 0 1 2 0 1 1 0 0 1 1 1 1 1 1 1 0 1 1 1 0 0 1 0 0\n",
      " 1 0 1 0 2 0 0 1 0 1 2 0 2 0 0 1 2 1 0 1 0 1 0 2 1 1 1 2 2 1 2 2 0 2 1 0 0\n",
      " 2 2 1 1 1 2 2 1 2 1 0 1 1 1 0 1 2 2 2 0 0 1 1 1 1 1 1 1 1 0 2 0 2 0 2 0 2\n",
      " 2 0 0 0 2 2 0 0 0 0 2 1 0 0 2 0 2 0 2 0 2 2 1 1 1 1 1 2 1 2 1 1 1 0 2 0 2\n",
      " 0 0 0 0 2 2 0 1 2 0 0 1 1 1 1 0 0 1 2 1 0 1 1 0 2 1 1 1 2 2 1 0 1 1 2 1 1\n",
      " 0 1 0 2 2 1 2 1 1 1 2 1 2 0 1 0 1 2 1 1 1 1 1 2 1 1 1 2 1 1 1 1 1 1 2 0 0\n",
      " 2 1 1 0 0 0 2 0 2 1 0 2 0 1 1 1 0 2 2 0 1 0 0 1 1 1 1 1 1 2 1 1 1 0 2 1 0\n",
      " 0 0 1 0 1 0 2 0 0 1 0 1 1 0 1 0 1 1 2 1 1 1 1 0 0 2 0 0 0 0 1 0 1 1 2 2 2\n",
      " 2 0 1 1 1 2 2 2 2 1 2 0 1 0 1 2 1 0 1 0 0 1 0 0 0 1 0 2 1 0 0 2 2 1 1 2 1\n",
      " 1 0 1 2 2 1 0 1 1 0 0 1 0 1 2 1 1 1 2 0 0 0 0 2 0 2 0 1 0 2 0 1 2 1 1 2 1\n",
      " 0 1 1 0 0 1 2 1 2 1 0 0 0 1 1 1 0 0 0 0 0 1 2 0 2 0 1 0 1 0 1 0 1 2 2 1 2\n",
      " 1 0 1 0 2 0 2 2 0 1 1 0 1 2 0 1 2 0 1 0 1 1 0 0 1 2 1 1 2 0 1 2 1 1 1 1 0\n",
      " 0 1 1 1 1 2 2 2 0 1 1 1 1 1 0 1 1 1 1 2 0 1 0 0 2 0 0 1 1 2 2 0 1 1 2 2 1\n",
      " 0 1 2 1 1 1 0 2 1 1 1 2 0 0 1 1 1 2 0 1 2 2 2 2 1 1 1 1 2 2 1 2 2 1 2 0 1\n",
      " 0 1 0 2 0 1 2 0 2 0 2 2 1 1 1 0 1 0 1 1 0 2 1 1 1 2 0 0 1 0 0 0 2 2 1 1 2\n",
      " 1 0 0 1 0 0 2 1 0 1 2 1 1 2 0 0 1 2 1 2 2 1 1 0 0 1 1 2 2 1 2 2 2 0 1 0 2\n",
      " 1 2 0 1 0 2 1 1 1 2 2 0 1 0 0 2 2 1 2 1 1 0 0 1 0 2 0 1 1 1 0 0 1 1 2 1 2\n",
      " 1 0 2 1 2 1 1 1 0 0 0 0 1 0 1 1 2 0 2 1 1 0 0 1 0 1 2 0 2 0 0 1 1 0 1 0 0\n",
      " 1 0 1 0 0 1 2 1 1 1 1 0 0 1 2 1 1 0 2 0 1 1 1 0 2 1 0 1 1 1 1 1 2 2 0 1 2\n",
      " 0 2 1 1 2 2 1 1 1 1 2 0 1 1 1 0 0 1 1 0 1 2 1]\n"
     ]
    }
   ],
   "source": [
    "predict4 = rf2.predict(test_arr_pca)\n",
    "print(predict4)"
   ]
  },
  {
   "cell_type": "code",
   "execution_count": 56,
   "metadata": {},
   "outputs": [
    {
     "name": "stdout",
     "output_type": "stream",
     "text": [
      "[1 0 2 2 0 0 1 1 0 2 2 0 1 2 0 2 1 1 1 1 0 1 2 0 1 2 1 1 1 0 0 1 1 2 0 1 0\n",
      " 1 0 1 1 0 2 1 0 2 1 2 1 0 1 1 1 1 2 2 0 1 2 0 0 1 1 1 2 0 1 1 1 0 1 2 1 0\n",
      " 1 0 2 2 1 2 2 0 1 2 2 1 2 0 1 1 0 1 1 0 0 1 1 1 1 1 1 1 0 0 0 1 0 0 1 0 0\n",
      " 1 0 1 2 2 0 0 1 0 1 2 0 2 0 0 1 2 1 0 1 0 1 0 2 1 1 1 1 2 1 2 2 0 2 1 0 0\n",
      " 2 2 1 1 1 2 2 1 2 1 2 1 1 1 0 1 2 2 2 0 0 1 1 1 1 1 1 1 1 0 2 0 2 0 2 0 2\n",
      " 2 0 0 0 2 2 0 0 0 0 2 1 0 0 2 0 2 0 2 0 2 2 1 1 1 1 1 2 1 2 1 1 1 0 2 1 2\n",
      " 0 0 0 0 2 2 0 1 2 0 0 1 1 1 1 0 0 1 2 1 0 1 2 0 2 1 1 1 2 2 1 0 1 2 2 2 1\n",
      " 0 1 0 2 2 1 2 0 2 1 2 1 2 0 1 0 1 2 1 1 1 1 1 2 1 1 1 2 1 1 1 1 1 1 1 0 0\n",
      " 2 1 1 0 0 0 2 0 2 1 0 2 0 1 1 1 0 2 2 0 1 0 0 1 0 1 1 1 1 2 1 1 1 0 1 1 0\n",
      " 0 1 1 0 1 0 2 0 0 1 0 1 1 0 1 1 1 1 2 1 1 1 1 1 0 2 0 0 0 0 1 0 1 1 2 2 2\n",
      " 2 0 1 1 1 2 2 2 2 1 2 0 1 0 1 2 2 0 1 0 2 1 0 0 0 1 0 2 1 0 0 2 2 1 1 2 1\n",
      " 1 0 1 2 2 1 0 1 1 0 0 1 0 1 1 2 1 1 2 0 0 0 0 2 0 2 0 1 0 2 0 1 2 1 1 2 1\n",
      " 0 1 1 0 0 1 1 1 2 1 0 0 0 2 1 0 0 0 0 0 0 2 2 0 2 0 1 0 1 0 1 0 1 2 2 1 2\n",
      " 1 0 1 0 2 0 2 2 0 1 1 0 1 2 0 1 1 0 1 0 1 1 0 0 1 2 1 1 2 0 1 2 1 1 1 1 0\n",
      " 0 1 2 2 1 2 2 2 0 1 1 1 1 1 0 1 1 2 1 2 0 1 0 0 2 0 0 1 1 2 2 0 1 1 1 1 1\n",
      " 0 1 2 1 1 1 0 2 1 1 1 1 0 0 1 1 1 2 0 1 2 2 2 2 1 1 1 1 2 2 2 2 2 1 2 0 1\n",
      " 0 1 0 2 0 1 2 0 2 0 2 2 1 1 1 0 0 0 1 1 0 2 1 1 1 1 0 0 1 0 0 0 2 2 1 1 2\n",
      " 1 0 0 1 0 0 2 1 0 1 2 1 1 1 0 0 1 2 1 2 2 1 1 0 0 1 2 2 2 1 2 2 2 0 1 0 2\n",
      " 2 2 0 1 0 2 1 1 1 2 2 0 2 0 0 2 2 1 2 1 1 0 0 1 0 2 1 1 1 1 0 0 1 1 2 1 2\n",
      " 1 0 2 1 1 1 1 1 0 0 0 0 1 0 1 1 2 0 2 1 1 0 0 1 0 1 2 0 2 1 0 1 1 0 1 0 0\n",
      " 1 0 1 0 0 1 2 1 1 1 1 0 0 1 2 1 1 0 0 0 1 1 1 0 2 1 0 1 0 2 1 1 2 2 0 1 2\n",
      " 0 2 2 1 2 2 1 1 1 1 2 0 1 1 1 0 0 1 1 0 1 2 1]\n"
     ]
    }
   ],
   "source": [
    "predict5 = rf3.predict(test_arr_pca)\n",
    "print(predict5)"
   ]
  },
  {
   "cell_type": "code",
   "execution_count": 17,
   "metadata": {},
   "outputs": [
    {
     "name": "stdout",
     "output_type": "stream",
     "text": [
      "[1 0 1 2 0 2 1 1 0 2 2 1 1 2 0 2 1 1 2 1 0 1 2 2 1 2 0 1 0 0 0 2 1 2 2 1 0\n",
      " 1 1 0 2 0 2 1 1 2 1 1 1 0 1 2 1 2 2 1 0 1 2 0 0 1 1 1 2 0 1 1 1 0 1 2 1 0\n",
      " 0 0 2 2 1 2 0 0 2 2 1 1 1 2 1 2 0 1 2 0 0 1 2 1 0 1 1 2 0 1 1 1 0 0 1 0 0\n",
      " 1 0 2 2 2 0 0 1 1 1 2 0 2 0 1 2 2 0 0 0 2 1 0 2 1 1 1 2 2 1 2 2 0 2 1 2 0\n",
      " 2 2 2 1 1 2 2 1 2 0 2 1 1 1 0 2 2 2 2 0 0 1 2 2 2 2 1 1 1 1 2 0 2 0 2 0 2\n",
      " 2 0 0 0 2 2 0 0 0 0 2 1 0 0 2 0 1 0 2 0 2 2 1 1 2 2 2 2 2 2 2 1 0 0 2 0 2\n",
      " 0 0 0 2 2 2 0 1 0 0 0 1 1 1 1 1 0 1 2 1 0 2 2 0 0 1 1 0 2 2 1 0 0 2 0 0 1\n",
      " 0 1 0 2 2 0 2 0 2 2 2 1 2 0 1 0 1 2 1 1 1 1 0 2 0 0 1 2 1 1 2 1 1 1 2 0 0\n",
      " 2 1 0 0 0 0 2 0 2 0 0 2 1 1 1 1 0 2 2 0 2 0 1 2 2 1 1 1 1 1 1 1 1 0 2 2 0\n",
      " 0 1 0 0 1 0 2 0 0 2 0 0 1 0 1 0 1 1 2 0 1 1 1 1 1 2 0 0 0 0 1 0 0 1 2 2 2\n",
      " 2 2 1 2 0 2 1 2 2 1 1 2 1 0 1 2 2 0 1 0 1 1 0 0 0 1 0 2 0 0 0 2 2 1 0 2 1\n",
      " 2 0 1 1 2 1 1 1 2 0 0 1 0 1 2 2 1 0 2 0 0 0 1 2 0 2 0 1 0 0 0 1 2 2 2 2 0\n",
      " 0 2 1 0 0 1 2 1 2 1 1 0 0 2 1 0 1 0 0 0 1 2 2 0 2 0 1 0 1 2 1 0 1 2 2 1 2\n",
      " 1 0 1 0 2 0 2 1 0 0 1 0 1 2 0 2 1 0 1 0 2 1 0 0 1 2 1 1 2 0 1 0 1 1 0 1 0\n",
      " 0 2 1 0 1 2 2 2 0 2 0 1 1 1 0 2 1 1 2 2 0 1 0 0 2 0 1 0 2 1 2 0 1 1 1 1 1\n",
      " 0 1 2 1 1 1 0 2 1 1 0 2 0 1 1 1 1 2 0 1 2 1 2 2 2 1 0 1 2 2 1 2 2 1 2 0 2\n",
      " 0 1 1 2 1 1 0 1 2 2 2 2 2 0 2 2 2 0 2 0 0 2 1 1 0 2 0 0 2 0 2 0 1 2 0 2 2\n",
      " 0 0 0 1 0 0 2 2 0 2 2 1 2 0 0 2 0 1 1 2 2 1 1 0 0 0 1 2 2 0 2 2 2 0 1 0 2\n",
      " 2 2 0 0 0 2 1 1 1 1 2 0 2 0 0 2 2 0 2 1 0 0 0 1 0 0 0 1 2 1 0 0 2 2 2 1 2\n",
      " 0 0 2 1 2 1 2 1 1 1 1 0 2 0 0 1 1 0 2 2 1 0 0 2 1 2 2 2 2 1 0 2 1 0 1 1 0\n",
      " 0 0 1 0 0 1 2 1 2 1 1 0 0 1 1 2 2 0 2 1 1 1 1 0 0 0 0 0 0 1 0 1 2 2 0 2 1\n",
      " 0 1 2 1 2 0 1 2 0 1 2 1 1 1 1 2 0 1 1 0 1 0 1]\n"
     ]
    }
   ],
   "source": [
    "predict6 = knn.predict(test_arr_pca)\n",
    "print(predict6)"
   ]
  },
  {
   "cell_type": "code",
   "execution_count": null,
   "metadata": {},
   "outputs": [],
   "source": [
    "predict7 = lasso_poly4.predict(test_arr_pca)\n",
    "print(predict7)"
   ]
  },
  {
   "cell_type": "code",
   "execution_count": 2,
   "metadata": {},
   "outputs": [
    {
     "name": "stdout",
     "output_type": "stream",
     "text": [
      "[1, 0, 2, 2, 0, 0, 1, 1, 0, 2, 2, 0, 1, 2, 0, 1, 1, 1, 1, 1, 0, 1, 2, 0, 1, 2, 2, 1, 1, 0, 0, 1, 1, 2, 0, 1, 0, 1, 0, 1, 1, 0, 1, 1, 0, 2, 1, 1, 1, 0, 1, 1, 1, 1, 2, 2, 0, 1, 2, 0, 0, 1, 1, 1, 2, 1, 1, 1, 1, 0, 1, 2, 1, 0, 1, 0, 2, 2, 1, 2, 2, 0, 2, 2, 2, 1, 2, 0, 1, 2, 0, 0, 1, 0, 0, 1, 1, 1, 1, 1, 1, 1, 0, 1, 0, 1, 0, 0, 1, 0, 0, 1, 0, 1, 0, 2, 0, 0, 1, 0, 0, 2, 0, 2, 0, 0, 1, 2, 1, 0, 1, 0, 1, 0, 2, 1, 1, 1, 1, 2, 1, 2, 2, 0, 2, 1, 0, 0, 2, 2, 1, 1, 1, 2, 2, 1, 2, 1, 0, 1, 1, 1, 0, 1, 2, 2, 2, 0, 0, 1, 1, 1, 1, 1, 1, 1, 1, 0, 2, 0, 2, 0, 2, 0, 2, 2, 0, 0, 0, 1, 2, 0, 0, 0, 0, 2, 1, 0, 0, 2, 0, 2, 0, 1, 0, 2, 2, 1, 1, 1, 2, 1, 2, 1, 2, 1, 1, 1, 0, 2, 1, 2, 0, 0, 0, 0, 2, 2, 0, 1, 2, 0, 0, 1, 1, 1, 1, 0, 0, 1, 2, 1, 0, 1, 2, 0, 2, 1, 1, 0, 2, 2, 1, 0, 1, 2, 2, 1, 1, 0, 1, 0, 2, 2, 1, 2, 1, 2, 1, 2, 1, 2, 0, 1, 0, 1, 2, 1, 1, 1, 1, 1, 2, 1, 1, 1, 2, 1, 1, 1, 1, 1, 1, 2, 0, 0, 2, 1, 1, 0, 0, 0, 2, 0, 2, 1, 0, 2, 0, 1, 1, 1, 0, 2, 2, 0, 1, 0, 0, 2, 0, 1, 1, 1, 1, 2, 1, 1, 1, 0, 1, 1, 0, 0, 0, 1, 0, 1, 0, 2, 0, 0, 1, 0, 1, 1, 0, 1, 0, 1, 1, 2, 1, 1, 1, 1, 1, 0, 2, 0, 0, 0, 0, 1, 0, 1, 1, 2, 2, 2, 2, 0, 1, 1, 1, 2, 2, 2, 2, 1, 2, 0, 1, 0, 1, 2, 1, 0, 1, 0, 1, 1, 0, 0, 0, 1, 0, 2, 1, 0, 0, 2, 2, 1, 1, 2, 1, 2, 0, 1, 2, 2, 1, 0, 1, 1, 0, 0, 1, 0, 1, 2, 2, 1, 1, 2, 0, 0, 0, 0, 2, 1, 2, 0, 1, 0, 2, 0, 1, 2, 1, 1, 2, 1, 0, 1, 1, 0, 0, 1, 2, 1, 2, 1, 0, 0, 0, 1, 1, 1, 0, 0, 0, 0, 1, 2, 2, 0, 2, 0, 1, 0, 1, 0, 2, 0, 1, 2, 2, 1, 2, 1, 0, 1, 0, 2, 0, 2, 2, 0, 1, 1, 0, 1, 2, 0, 2, 1, 0, 1, 0, 1, 1, 0, 0, 1, 2, 1, 1, 1, 0, 1, 2, 1, 1, 1, 1, 0, 0, 1, 2, 1, 1, 2, 2, 2, 0, 1, 1, 1, 1, 1, 0, 1, 1, 1, 1, 2, 0, 1, 0, 0, 1, 0, 0, 1, 1, 2, 2, 0, 1, 1, 1, 1, 1, 0, 1, 2, 1, 1, 1, 0, 2, 1, 1, 1, 2, 0, 0, 1, 1, 1, 2, 0, 1, 2, 2, 2, 2, 1, 1, 1, 1, 0, 2, 1, 2, 2, 1, 2, 0, 1, 0, 1, 0, 2, 0, 1, 2, 1, 2, 0, 2, 2, 1, 1, 1, 0, 0, 0, 1, 1, 0, 2, 0, 1, 1, 2, 0, 0, 1, 0, 0, 0, 2, 2, 0, 1, 2, 1, 0, 0, 1, 0, 0, 2, 1, 0, 1, 2, 1, 1, 2, 0, 0, 1, 2, 1, 2, 2, 1, 1, 0, 0, 1, 1, 2, 0, 1, 2, 2, 2, 2, 1, 0, 2, 1, 2, 0, 1, 0, 2, 1, 1, 1, 2, 2, 1, 1, 0, 0, 2, 2, 1, 2, 1, 1, 0, 0, 0, 0, 2, 0, 1, 1, 1, 0, 0, 1, 1, 2, 1, 2, 1, 0, 2, 1, 1, 1, 1, 1, 0, 0, 1, 0, 1, 0, 1, 1, 2, 0, 2, 1, 1, 0, 0, 1, 0, 1, 2, 0, 2, 1, 0, 1, 1, 0, 1, 0, 0, 1, 0, 0, 0, 0, 1, 2, 1, 1, 1, 1, 0, 0, 1, 2, 1, 1, 0, 0, 0, 1, 1, 1, 0, 1, 1, 0, 1, 0, 2, 1, 1, 2, 2, 0, 1, 2, 0, 2, 2, 1, 2, 2, 1, 1, 1, 1, 2, 0, 1, 1, 1, 0, 0, 1, 1, 0, 1, 2, 1]\n"
     ]
    }
   ],
   "source": [
    "df = pd.read_csv('./data/0610832_result5.csv', index_col=0)\n",
    "label5_list = []\n",
    "for i in range(len(df['label'])):\n",
    "    if df['label'][i] == 0:\n",
    "        label5_list.append(0)\n",
    "    elif df['label'][i] == 1:\n",
    "        label5_list.append(1)\n",
    "    else:\n",
    "        label5_list.append(2)\n",
    "print(label5_list)"
   ]
  },
  {
   "cell_type": "code",
   "execution_count": 3,
   "metadata": {},
   "outputs": [
    {
     "name": "stdout",
     "output_type": "stream",
     "text": [
      "[1, 0, 2, 2, 0, 0, 1, 1, 0, 2, 2, 0, 1, 2, 0, 2, 1, 1, 1, 1, 0, 1, 2, 0, 1, 2, 1, 1, 1, 0, 0, 1, 1, 2, 0, 1, 0, 1, 0, 1, 2, 0, 1, 1, 0, 2, 1, 1, 0, 0, 1, 1, 1, 2, 2, 2, 0, 1, 2, 0, 0, 1, 1, 1, 1, 1, 1, 1, 1, 0, 1, 2, 2, 0, 1, 0, 2, 2, 1, 2, 2, 0, 1, 2, 2, 1, 1, 0, 1, 2, 0, 1, 1, 0, 0, 1, 1, 1, 1, 1, 1, 1, 0, 1, 1, 1, 0, 0, 1, 0, 0, 1, 0, 1, 0, 2, 0, 0, 1, 0, 1, 2, 0, 2, 0, 0, 1, 2, 1, 0, 1, 0, 1, 0, 2, 1, 1, 1, 2, 2, 1, 2, 2, 0, 2, 1, 0, 0, 2, 2, 1, 1, 1, 2, 2, 1, 2, 1, 0, 1, 1, 1, 0, 1, 2, 2, 2, 0, 0, 1, 1, 1, 1, 1, 1, 1, 1, 0, 2, 0, 2, 0, 2, 0, 2, 2, 0, 0, 0, 2, 2, 0, 0, 0, 0, 2, 1, 0, 0, 2, 0, 2, 0, 2, 0, 2, 2, 1, 1, 1, 1, 1, 2, 1, 2, 1, 1, 1, 0, 2, 1, 2, 0, 0, 0, 0, 2, 2, 0, 1, 2, 0, 0, 1, 1, 1, 1, 0, 0, 1, 2, 1, 0, 1, 2, 0, 2, 1, 1, 1, 2, 2, 1, 0, 1, 1, 2, 1, 1, 1, 1, 0, 2, 2, 1, 2, 1, 1, 1, 2, 1, 2, 0, 1, 0, 1, 2, 1, 1, 1, 1, 1, 2, 1, 1, 1, 2, 1, 1, 1, 1, 1, 1, 1, 0, 0, 2, 1, 1, 0, 0, 0, 2, 0, 2, 1, 0, 2, 0, 1, 1, 1, 0, 2, 2, 0, 1, 0, 0, 1, 1, 1, 1, 1, 1, 2, 1, 1, 1, 0, 2, 1, 0, 0, 0, 1, 0, 1, 0, 2, 0, 0, 1, 0, 1, 1, 0, 1, 1, 1, 1, 2, 1, 1, 1, 1, 0, 0, 2, 0, 0, 0, 0, 1, 0, 1, 1, 2, 2, 2, 2, 0, 1, 1, 1, 2, 2, 2, 2, 1, 2, 0, 1, 0, 1, 2, 1, 0, 1, 0, 2, 1, 0, 0, 0, 1, 0, 2, 1, 0, 0, 2, 2, 1, 1, 2, 1, 1, 0, 1, 2, 2, 1, 0, 1, 1, 0, 0, 1, 0, 1, 2, 1, 1, 1, 2, 0, 0, 0, 0, 2, 0, 2, 0, 1, 0, 2, 0, 1, 2, 1, 1, 2, 0, 0, 1, 1, 0, 0, 1, 2, 1, 2, 1, 0, 0, 0, 2, 1, 1, 0, 0, 0, 0, 0, 1, 2, 0, 2, 0, 1, 0, 1, 0, 1, 0, 1, 2, 2, 1, 2, 1, 0, 1, 0, 2, 1, 2, 2, 0, 1, 1, 0, 1, 2, 0, 1, 2, 0, 1, 0, 1, 1, 0, 0, 1, 2, 1, 1, 2, 0, 1, 2, 1, 1, 1, 1, 0, 0, 1, 1, 1, 1, 2, 2, 2, 0, 1, 1, 1, 1, 1, 0, 1, 1, 1, 1, 2, 0, 1, 0, 0, 2, 0, 0, 1, 1, 2, 2, 0, 1, 1, 1, 1, 1, 0, 1, 2, 1, 1, 1, 0, 2, 1, 1, 1, 2, 0, 0, 1, 1, 1, 2, 0, 1, 2, 2, 2, 2, 1, 1, 1, 1, 2, 2, 1, 2, 2, 1, 2, 0, 1, 0, 1, 0, 2, 0, 1, 2, 0, 2, 0, 2, 2, 1, 1, 1, 0, 1, 0, 1, 1, 0, 2, 1, 1, 1, 2, 0, 0, 1, 0, 0, 0, 2, 2, 1, 1, 2, 1, 0, 0, 1, 0, 0, 2, 1, 0, 1, 2, 1, 1, 2, 0, 0, 1, 2, 1, 2, 2, 1, 1, 0, 0, 1, 1, 2, 2, 1, 2, 2, 2, 0, 1, 0, 2, 1, 2, 0, 1, 0, 2, 1, 1, 1, 2, 2, 0, 1, 0, 0, 2, 2, 1, 2, 1, 1, 0, 0, 1, 0, 2, 0, 1, 1, 1, 0, 0, 1, 1, 2, 1, 2, 1, 0, 2, 1, 2, 1, 0, 1, 0, 0, 0, 0, 1, 0, 1, 1, 2, 0, 2, 1, 1, 0, 0, 1, 0, 1, 2, 0, 2, 1, 0, 1, 1, 0, 1, 0, 0, 1, 0, 1, 0, 0, 1, 2, 1, 1, 1, 1, 0, 0, 1, 2, 1, 1, 0, 2, 0, 1, 1, 1, 0, 2, 1, 0, 1, 1, 1, 1, 1, 2, 2, 0, 1, 2, 0, 2, 1, 1, 2, 2, 1, 1, 1, 1, 2, 0, 1, 1, 1, 0, 0, 1, 1, 0, 1, 0, 1]\n"
     ]
    }
   ],
   "source": [
    "df = pd.read_csv('./data/0610832_result11.csv', index_col=0)\n",
    "label11_list = []\n",
    "for i in range(len(df['label'])):\n",
    "    if df['label'][i] == 0:\n",
    "        label11_list.append(0)\n",
    "    elif df['label'][i] == 1:\n",
    "        label11_list.append(1)\n",
    "    else:\n",
    "        label11_list.append(2)\n",
    "print(label11_list)"
   ]
  },
  {
   "cell_type": "code",
   "execution_count": 4,
   "metadata": {},
   "outputs": [
    {
     "name": "stdout",
     "output_type": "stream",
     "text": [
      "[1, 0, 2, 2, 0, 0, 1, 1, 0, 2, 2, 0, 1, 2, 0, 2, 1, 1, 1, 1, 0, 1, 2, 0, 1, 2, 1, 1, 1, 0, 0, 1, 1, 2, 0, 1, 0, 1, 0, 1, 1, 0, 1, 1, 0, 2, 1, 1, 1, 0, 1, 1, 1, 1, 2, 2, 0, 1, 2, 0, 0, 1, 1, 1, 2, 1, 1, 1, 1, 0, 1, 2, 1, 0, 1, 0, 2, 2, 1, 2, 2, 0, 2, 2, 2, 1, 1, 0, 1, 2, 0, 1, 1, 0, 0, 1, 1, 1, 1, 1, 1, 1, 0, 1, 1, 1, 0, 0, 1, 0, 0, 1, 0, 1, 0, 2, 0, 0, 1, 0, 1, 2, 0, 2, 0, 0, 1, 2, 1, 0, 1, 0, 1, 0, 2, 1, 1, 1, 1, 2, 1, 2, 2, 0, 2, 1, 0, 0, 2, 2, 1, 1, 1, 2, 2, 1, 2, 1, 0, 1, 1, 1, 0, 1, 2, 2, 2, 0, 0, 1, 1, 1, 1, 1, 1, 1, 1, 0, 2, 0, 2, 0, 2, 0, 2, 2, 0, 0, 0, 2, 2, 0, 0, 0, 0, 2, 1, 0, 0, 2, 0, 2, 0, 1, 0, 2, 2, 1, 1, 1, 1, 1, 2, 1, 2, 1, 1, 1, 0, 2, 1, 2, 0, 0, 0, 0, 2, 2, 0, 1, 2, 0, 0, 1, 1, 1, 1, 0, 0, 1, 2, 1, 0, 1, 2, 0, 2, 1, 1, 1, 2, 2, 1, 0, 1, 2, 2, 1, 1, 0, 1, 0, 2, 2, 1, 2, 1, 1, 1, 2, 1, 2, 0, 1, 0, 1, 2, 1, 1, 1, 1, 1, 2, 1, 1, 1, 2, 1, 1, 1, 1, 1, 1, 1, 0, 0, 2, 1, 1, 0, 0, 0, 2, 0, 2, 1, 0, 2, 0, 1, 1, 1, 0, 2, 2, 0, 1, 0, 0, 1, 0, 1, 1, 1, 1, 2, 1, 1, 1, 0, 1, 1, 0, 0, 0, 1, 0, 1, 0, 2, 0, 0, 1, 0, 1, 1, 0, 1, 0, 1, 1, 2, 1, 1, 1, 1, 0, 0, 2, 0, 0, 0, 0, 1, 0, 1, 1, 2, 2, 2, 2, 0, 1, 1, 1, 2, 2, 2, 2, 1, 2, 0, 1, 0, 1, 2, 1, 0, 1, 0, 2, 1, 0, 0, 0, 1, 0, 2, 1, 0, 0, 2, 2, 1, 1, 2, 1, 1, 0, 1, 2, 2, 1, 0, 1, 1, 0, 0, 1, 0, 1, 2, 2, 1, 1, 2, 0, 0, 0, 0, 2, 1, 2, 0, 1, 0, 2, 0, 1, 2, 1, 1, 2, 1, 0, 1, 1, 0, 0, 1, 2, 1, 2, 1, 0, 0, 0, 1, 1, 1, 0, 0, 0, 0, 0, 2, 2, 0, 2, 0, 1, 0, 1, 0, 1, 0, 1, 2, 2, 1, 2, 1, 0, 1, 0, 2, 0, 2, 2, 0, 1, 1, 0, 1, 2, 0, 1, 2, 0, 1, 0, 1, 1, 0, 0, 1, 2, 1, 1, 1, 0, 1, 2, 1, 1, 1, 1, 0, 0, 1, 2, 1, 1, 2, 2, 2, 0, 1, 1, 1, 1, 1, 0, 1, 1, 1, 1, 2, 0, 1, 0, 0, 2, 0, 0, 1, 1, 2, 2, 0, 1, 1, 1, 1, 1, 0, 1, 2, 1, 1, 1, 0, 2, 1, 1, 1, 2, 0, 0, 1, 1, 1, 2, 0, 1, 2, 2, 2, 2, 1, 1, 1, 1, 2, 2, 1, 2, 2, 1, 2, 0, 1, 0, 1, 0, 2, 0, 1, 2, 0, 2, 0, 2, 2, 1, 1, 1, 0, 0, 0, 1, 1, 0, 2, 1, 1, 1, 2, 0, 0, 1, 0, 0, 0, 2, 2, 0, 1, 2, 1, 0, 0, 1, 0, 0, 2, 1, 0, 1, 2, 1, 1, 2, 0, 0, 1, 2, 1, 2, 2, 1, 1, 0, 0, 1, 1, 2, 0, 1, 2, 2, 2, 0, 1, 0, 2, 1, 2, 0, 1, 0, 2, 1, 1, 1, 2, 2, 1, 1, 0, 0, 2, 2, 1, 2, 1, 1, 0, 0, 1, 0, 2, 0, 1, 1, 1, 0, 0, 1, 1, 2, 1, 2, 1, 0, 2, 1, 2, 1, 1, 1, 0, 0, 1, 0, 1, 0, 1, 1, 2, 0, 2, 1, 1, 0, 0, 1, 0, 1, 2, 0, 2, 1, 0, 1, 1, 0, 1, 0, 0, 1, 0, 0, 0, 0, 1, 2, 1, 1, 1, 1, 0, 0, 1, 2, 1, 1, 0, 2, 0, 1, 1, 1, 0, 1, 1, 0, 1, 0, 1, 1, 1, 2, 2, 0, 1, 2, 0, 2, 1, 1, 2, 2, 1, 1, 1, 1, 2, 0, 1, 1, 1, 0, 0, 1, 1, 0, 1, 2, 1]\n"
     ]
    }
   ],
   "source": [
    "df = pd.read_csv('./data/0610832_result13.csv', index_col=0)\n",
    "label13_list = []\n",
    "for i in range(len(df['label'])):\n",
    "    if df['label'][i] == 0:\n",
    "        label13_list.append(0)\n",
    "    elif df['label'][i] == 1:\n",
    "        label13_list.append(1)\n",
    "    else:\n",
    "        label13_list.append(2)\n",
    "print(label13_list)"
   ]
  },
  {
   "cell_type": "markdown",
   "metadata": {},
   "source": [
    "多數決"
   ]
  },
  {
   "cell_type": "code",
   "execution_count": 9,
   "metadata": {},
   "outputs": [
    {
     "ename": "NameError",
     "evalue": "name 'predict1' is not defined",
     "output_type": "error",
     "traceback": [
      "\u001b[0;31m\u001b[0m",
      "\u001b[0;31mNameError\u001b[0mTraceback (most recent call last)",
      "\u001b[0;32m<ipython-input-9-dc73f353c096>\u001b[0m in \u001b[0;36m<module>\u001b[0;34m()\u001b[0m\n\u001b[1;32m      1\u001b[0m \u001b[0mpredict_final\u001b[0m \u001b[0;34m=\u001b[0m \u001b[0;34m[\u001b[0m\u001b[0;34m]\u001b[0m\u001b[0;34m\u001b[0m\u001b[0;34m\u001b[0m\u001b[0m\n\u001b[0;32m----> 2\u001b[0;31m \u001b[0;32mfor\u001b[0m \u001b[0mi\u001b[0m \u001b[0;32min\u001b[0m \u001b[0mrange\u001b[0m\u001b[0;34m(\u001b[0m\u001b[0mlen\u001b[0m\u001b[0;34m(\u001b[0m\u001b[0mpredict1\u001b[0m\u001b[0;34m)\u001b[0m\u001b[0;34m)\u001b[0m\u001b[0;34m:\u001b[0m\u001b[0;34m\u001b[0m\u001b[0;34m\u001b[0m\u001b[0m\n\u001b[0m\u001b[1;32m      3\u001b[0m     \u001b[0;32mif\u001b[0m \u001b[0mpredict1\u001b[0m\u001b[0;34m[\u001b[0m\u001b[0mi\u001b[0m\u001b[0;34m]\u001b[0m \u001b[0;34m==\u001b[0m \u001b[0mpredict3\u001b[0m\u001b[0;34m[\u001b[0m\u001b[0mi\u001b[0m\u001b[0;34m]\u001b[0m\u001b[0;34m:\u001b[0m\u001b[0;34m\u001b[0m\u001b[0;34m\u001b[0m\u001b[0m\n\u001b[1;32m      4\u001b[0m         \u001b[0mpredict_final\u001b[0m\u001b[0;34m.\u001b[0m\u001b[0mappend\u001b[0m\u001b[0;34m(\u001b[0m\u001b[0mpredict1\u001b[0m\u001b[0;34m[\u001b[0m\u001b[0mi\u001b[0m\u001b[0;34m]\u001b[0m\u001b[0;34m)\u001b[0m\u001b[0;34m\u001b[0m\u001b[0;34m\u001b[0m\u001b[0m\n\u001b[1;32m      5\u001b[0m     \u001b[0;32melif\u001b[0m \u001b[0mpredict1\u001b[0m\u001b[0;34m[\u001b[0m\u001b[0mi\u001b[0m\u001b[0;34m]\u001b[0m \u001b[0;34m==\u001b[0m \u001b[0mpredict4\u001b[0m\u001b[0;34m[\u001b[0m\u001b[0mi\u001b[0m\u001b[0;34m]\u001b[0m\u001b[0;34m:\u001b[0m\u001b[0;34m\u001b[0m\u001b[0;34m\u001b[0m\u001b[0m\n",
      "\u001b[0;31mNameError\u001b[0m: name 'predict1' is not defined"
     ]
    }
   ],
   "source": [
    "predict_final = []\n",
    "for i in range(len(predict1)):\n",
    "    if predict1[i] == predict3[i]:\n",
    "        predict_final.append(predict1[i])\n",
    "    elif predict1[i] == predict4[i]:\n",
    "        predict_final.append(predict1[i])\n",
    "    elif predict3[i] == predict4[i]:\n",
    "        predict_final.append(predict4[i])\n",
    "    else:\n",
    "        predict_final.append(predict4[i])\n"
   ]
  },
  {
   "cell_type": "code",
   "execution_count": 5,
   "metadata": {},
   "outputs": [],
   "source": [
    "predict_final = []\n",
    "for i in range(len(label5_list)):\n",
    "    if label5_list[i] == label11_list[i]:\n",
    "        predict_final.append(label5_list[i])\n",
    "    elif label5_list[i] == label13_list[i]:\n",
    "        predict_final.append(label5_list[i])\n",
    "    elif label11_list[i] == label13_list[i]:\n",
    "        predict_final.append(label11_list[i])\n",
    "    else:\n",
    "        predict_final.append(label5_list[i])"
   ]
  },
  {
   "cell_type": "markdown",
   "metadata": {},
   "source": [
    "寫檔"
   ]
  },
  {
   "cell_type": "code",
   "execution_count": 6,
   "metadata": {},
   "outputs": [],
   "source": [
    "df = pd.read_csv('./data/Train.csv', index_col=0)\n",
    "with open ('0610832_result.csv','w') as f:\n",
    "    f.write('ID,label\\n')\n",
    "    for i in range(len(predict_final)):\n",
    "        f.write('%04d.jpg,%d\\n'%(i, predict_final[i]))"
   ]
  },
  {
   "cell_type": "code",
   "execution_count": null,
   "metadata": {},
   "outputs": [],
   "source": []
  }
 ],
 "metadata": {
  "kernelspec": {
   "display_name": "Python 3",
   "language": "python",
   "name": "python3"
  },
  "language_info": {
   "codemirror_mode": {
    "name": "ipython",
    "version": 3
   },
   "file_extension": ".py",
   "mimetype": "text/x-python",
   "name": "python",
   "nbconvert_exporter": "python",
   "pygments_lexer": "ipython3",
   "version": "3.6.7"
  }
 },
 "nbformat": 4,
 "nbformat_minor": 2
}
